{
 "cells": [
  {
   "cell_type": "code",
   "execution_count": 1,
   "metadata": {
    "_cell_guid": "b1076dfc-b9ad-4769-8c92-a6c4dae69d19",
    "_uuid": "8f2839f25d086af736a60e9eeb907d3b93b6e0e5",
    "execution": {
     "iopub.execute_input": "2023-03-13T05:16:54.167923Z",
     "iopub.status.busy": "2023-03-13T05:16:54.167000Z",
     "iopub.status.idle": "2023-03-13T05:16:54.183252Z",
     "shell.execute_reply": "2023-03-13T05:16:54.181901Z"
    },
    "papermill": {
     "duration": 0.033834,
     "end_time": "2023-03-13T05:16:54.186772",
     "exception": false,
     "start_time": "2023-03-13T05:16:54.152938",
     "status": "completed"
    },
    "tags": []
   },
   "outputs": [
    {
     "name": "stdout",
     "output_type": "stream",
     "text": [
      "/kaggle/input/shelter-animal-outcomes/sample_submission.csv.gz\n",
      "/kaggle/input/shelter-animal-outcomes/train.csv.gz\n",
      "/kaggle/input/shelter-animal-outcomes/test.csv.gz\n"
     ]
    }
   ],
   "source": [
    "# This Python 3 environment comes with many helpful analytics libraries installed\n",
    "# It is defined by the kaggle/python Docker image: https://github.com/kaggle/docker-python\n",
    "# For example, here's several helpful packages to load\n",
    "\n",
    "import numpy as np # linear algebra\n",
    "import pandas as pd # data processing, CSV file I/O (e.g. pd.read_csv)\n",
    "# Input data files are available in the read-only \"../input/\" directory\n",
    "# For example, running this (by clicking run or pressing Shift+Enter) will list all files under the input directory\n",
    "\n",
    "import os\n",
    "for dirname, _, filenames in os.walk('/kaggle/input'):\n",
    "    for filename in filenames:\n",
    "        print(os.path.join(dirname, filename))\n",
    "\n",
    "# You can write up to 20GB to the current directory (/kaggle/working/) that gets preserved as output when you create a version using \"Save & Run All\" \n",
    "# You can also write temporary files to /kaggle/temp/, but they won't be saved outside of the current session\n"
   ]
  },
  {
   "cell_type": "markdown",
   "metadata": {
    "papermill": {
     "duration": 0.010842,
     "end_time": "2023-03-13T05:16:54.209053",
     "exception": false,
     "start_time": "2023-03-13T05:16:54.198211",
     "status": "completed"
    },
    "tags": []
   },
   "source": [
    "# **Daten anschauen**"
   ]
  },
  {
   "cell_type": "code",
   "execution_count": 2,
   "metadata": {
    "execution": {
     "iopub.execute_input": "2023-03-13T05:16:54.233401Z",
     "iopub.status.busy": "2023-03-13T05:16:54.232909Z",
     "iopub.status.idle": "2023-03-13T05:16:54.384954Z",
     "shell.execute_reply": "2023-03-13T05:16:54.383633Z"
    },
    "papermill": {
     "duration": 0.168007,
     "end_time": "2023-03-13T05:16:54.388245",
     "exception": false,
     "start_time": "2023-03-13T05:16:54.220238",
     "status": "completed"
    },
    "tags": []
   },
   "outputs": [
    {
     "data": {
      "text/html": [
       "<div>\n",
       "<style scoped>\n",
       "    .dataframe tbody tr th:only-of-type {\n",
       "        vertical-align: middle;\n",
       "    }\n",
       "\n",
       "    .dataframe tbody tr th {\n",
       "        vertical-align: top;\n",
       "    }\n",
       "\n",
       "    .dataframe thead th {\n",
       "        text-align: right;\n",
       "    }\n",
       "</style>\n",
       "<table border=\"1\" class=\"dataframe\">\n",
       "  <thead>\n",
       "    <tr style=\"text-align: right;\">\n",
       "      <th></th>\n",
       "      <th>AnimalID</th>\n",
       "      <th>Name</th>\n",
       "      <th>DateTime</th>\n",
       "      <th>OutcomeType</th>\n",
       "      <th>OutcomeSubtype</th>\n",
       "      <th>AnimalType</th>\n",
       "      <th>SexuponOutcome</th>\n",
       "      <th>AgeuponOutcome</th>\n",
       "      <th>Breed</th>\n",
       "      <th>Color</th>\n",
       "    </tr>\n",
       "  </thead>\n",
       "  <tbody>\n",
       "    <tr>\n",
       "      <th>0</th>\n",
       "      <td>A671945</td>\n",
       "      <td>Hambone</td>\n",
       "      <td>2014-02-12 18:22:00</td>\n",
       "      <td>Return_to_owner</td>\n",
       "      <td>NaN</td>\n",
       "      <td>Dog</td>\n",
       "      <td>Neutered Male</td>\n",
       "      <td>1 year</td>\n",
       "      <td>Shetland Sheepdog Mix</td>\n",
       "      <td>Brown/White</td>\n",
       "    </tr>\n",
       "    <tr>\n",
       "      <th>1</th>\n",
       "      <td>A656520</td>\n",
       "      <td>Emily</td>\n",
       "      <td>2013-10-13 12:44:00</td>\n",
       "      <td>Euthanasia</td>\n",
       "      <td>Suffering</td>\n",
       "      <td>Cat</td>\n",
       "      <td>Spayed Female</td>\n",
       "      <td>1 year</td>\n",
       "      <td>Domestic Shorthair Mix</td>\n",
       "      <td>Cream Tabby</td>\n",
       "    </tr>\n",
       "    <tr>\n",
       "      <th>2</th>\n",
       "      <td>A686464</td>\n",
       "      <td>Pearce</td>\n",
       "      <td>2015-01-31 12:28:00</td>\n",
       "      <td>Adoption</td>\n",
       "      <td>Foster</td>\n",
       "      <td>Dog</td>\n",
       "      <td>Neutered Male</td>\n",
       "      <td>2 years</td>\n",
       "      <td>Pit Bull Mix</td>\n",
       "      <td>Blue/White</td>\n",
       "    </tr>\n",
       "    <tr>\n",
       "      <th>3</th>\n",
       "      <td>A683430</td>\n",
       "      <td>NaN</td>\n",
       "      <td>2014-07-11 19:09:00</td>\n",
       "      <td>Transfer</td>\n",
       "      <td>Partner</td>\n",
       "      <td>Cat</td>\n",
       "      <td>Intact Male</td>\n",
       "      <td>3 weeks</td>\n",
       "      <td>Domestic Shorthair Mix</td>\n",
       "      <td>Blue Cream</td>\n",
       "    </tr>\n",
       "    <tr>\n",
       "      <th>4</th>\n",
       "      <td>A667013</td>\n",
       "      <td>NaN</td>\n",
       "      <td>2013-11-15 12:52:00</td>\n",
       "      <td>Transfer</td>\n",
       "      <td>Partner</td>\n",
       "      <td>Dog</td>\n",
       "      <td>Neutered Male</td>\n",
       "      <td>2 years</td>\n",
       "      <td>Lhasa Apso/Miniature Poodle</td>\n",
       "      <td>Tan</td>\n",
       "    </tr>\n",
       "  </tbody>\n",
       "</table>\n",
       "</div>"
      ],
      "text/plain": [
       "  AnimalID     Name             DateTime      OutcomeType OutcomeSubtype  \\\n",
       "0  A671945  Hambone  2014-02-12 18:22:00  Return_to_owner            NaN   \n",
       "1  A656520    Emily  2013-10-13 12:44:00       Euthanasia      Suffering   \n",
       "2  A686464   Pearce  2015-01-31 12:28:00         Adoption         Foster   \n",
       "3  A683430      NaN  2014-07-11 19:09:00         Transfer        Partner   \n",
       "4  A667013      NaN  2013-11-15 12:52:00         Transfer        Partner   \n",
       "\n",
       "  AnimalType SexuponOutcome AgeuponOutcome                        Breed  \\\n",
       "0        Dog  Neutered Male         1 year        Shetland Sheepdog Mix   \n",
       "1        Cat  Spayed Female         1 year       Domestic Shorthair Mix   \n",
       "2        Dog  Neutered Male        2 years                 Pit Bull Mix   \n",
       "3        Cat    Intact Male        3 weeks       Domestic Shorthair Mix   \n",
       "4        Dog  Neutered Male        2 years  Lhasa Apso/Miniature Poodle   \n",
       "\n",
       "         Color  \n",
       "0  Brown/White  \n",
       "1  Cream Tabby  \n",
       "2   Blue/White  \n",
       "3   Blue Cream  \n",
       "4          Tan  "
      ]
     },
     "execution_count": 2,
     "metadata": {},
     "output_type": "execute_result"
    }
   ],
   "source": [
    "data = pd.read_csv(\"/kaggle/input/shelter-animal-outcomes/train.csv.gz\")\n",
    "data.head()"
   ]
  },
  {
   "cell_type": "code",
   "execution_count": 3,
   "metadata": {
    "execution": {
     "iopub.execute_input": "2023-03-13T05:16:54.414756Z",
     "iopub.status.busy": "2023-03-13T05:16:54.414301Z",
     "iopub.status.idle": "2023-03-13T05:16:54.467546Z",
     "shell.execute_reply": "2023-03-13T05:16:54.466282Z"
    },
    "papermill": {
     "duration": 0.070871,
     "end_time": "2023-03-13T05:16:54.470568",
     "exception": false,
     "start_time": "2023-03-13T05:16:54.399697",
     "status": "completed"
    },
    "tags": []
   },
   "outputs": [
    {
     "data": {
      "text/html": [
       "<div>\n",
       "<style scoped>\n",
       "    .dataframe tbody tr th:only-of-type {\n",
       "        vertical-align: middle;\n",
       "    }\n",
       "\n",
       "    .dataframe tbody tr th {\n",
       "        vertical-align: top;\n",
       "    }\n",
       "\n",
       "    .dataframe thead th {\n",
       "        text-align: right;\n",
       "    }\n",
       "</style>\n",
       "<table border=\"1\" class=\"dataframe\">\n",
       "  <thead>\n",
       "    <tr style=\"text-align: right;\">\n",
       "      <th></th>\n",
       "      <th>ID</th>\n",
       "      <th>Name</th>\n",
       "      <th>DateTime</th>\n",
       "      <th>AnimalType</th>\n",
       "      <th>SexuponOutcome</th>\n",
       "      <th>AgeuponOutcome</th>\n",
       "      <th>Breed</th>\n",
       "      <th>Color</th>\n",
       "    </tr>\n",
       "  </thead>\n",
       "  <tbody>\n",
       "    <tr>\n",
       "      <th>0</th>\n",
       "      <td>1</td>\n",
       "      <td>Summer</td>\n",
       "      <td>2015-10-12 12:15:00</td>\n",
       "      <td>Dog</td>\n",
       "      <td>Intact Female</td>\n",
       "      <td>10 months</td>\n",
       "      <td>Labrador Retriever Mix</td>\n",
       "      <td>Red/White</td>\n",
       "    </tr>\n",
       "    <tr>\n",
       "      <th>1</th>\n",
       "      <td>2</td>\n",
       "      <td>Cheyenne</td>\n",
       "      <td>2014-07-26 17:59:00</td>\n",
       "      <td>Dog</td>\n",
       "      <td>Spayed Female</td>\n",
       "      <td>2 years</td>\n",
       "      <td>German Shepherd/Siberian Husky</td>\n",
       "      <td>Black/Tan</td>\n",
       "    </tr>\n",
       "    <tr>\n",
       "      <th>2</th>\n",
       "      <td>3</td>\n",
       "      <td>Gus</td>\n",
       "      <td>2016-01-13 12:20:00</td>\n",
       "      <td>Cat</td>\n",
       "      <td>Neutered Male</td>\n",
       "      <td>1 year</td>\n",
       "      <td>Domestic Shorthair Mix</td>\n",
       "      <td>Brown Tabby</td>\n",
       "    </tr>\n",
       "    <tr>\n",
       "      <th>3</th>\n",
       "      <td>4</td>\n",
       "      <td>Pongo</td>\n",
       "      <td>2013-12-28 18:12:00</td>\n",
       "      <td>Dog</td>\n",
       "      <td>Intact Male</td>\n",
       "      <td>4 months</td>\n",
       "      <td>Collie Smooth Mix</td>\n",
       "      <td>Tricolor</td>\n",
       "    </tr>\n",
       "    <tr>\n",
       "      <th>4</th>\n",
       "      <td>5</td>\n",
       "      <td>Skooter</td>\n",
       "      <td>2015-09-24 17:59:00</td>\n",
       "      <td>Dog</td>\n",
       "      <td>Neutered Male</td>\n",
       "      <td>2 years</td>\n",
       "      <td>Miniature Poodle Mix</td>\n",
       "      <td>White</td>\n",
       "    </tr>\n",
       "  </tbody>\n",
       "</table>\n",
       "</div>"
      ],
      "text/plain": [
       "   ID      Name             DateTime AnimalType SexuponOutcome AgeuponOutcome  \\\n",
       "0   1    Summer  2015-10-12 12:15:00        Dog  Intact Female      10 months   \n",
       "1   2  Cheyenne  2014-07-26 17:59:00        Dog  Spayed Female        2 years   \n",
       "2   3       Gus  2016-01-13 12:20:00        Cat  Neutered Male         1 year   \n",
       "3   4     Pongo  2013-12-28 18:12:00        Dog    Intact Male       4 months   \n",
       "4   5   Skooter  2015-09-24 17:59:00        Dog  Neutered Male        2 years   \n",
       "\n",
       "                            Breed        Color  \n",
       "0          Labrador Retriever Mix    Red/White  \n",
       "1  German Shepherd/Siberian Husky    Black/Tan  \n",
       "2          Domestic Shorthair Mix  Brown Tabby  \n",
       "3               Collie Smooth Mix     Tricolor  \n",
       "4            Miniature Poodle Mix        White  "
      ]
     },
     "execution_count": 3,
     "metadata": {},
     "output_type": "execute_result"
    }
   ],
   "source": [
    "test_data = pd.read_csv(\"/kaggle/input/shelter-animal-outcomes/test.csv.gz\")\n",
    "test_data.head()"
   ]
  },
  {
   "cell_type": "markdown",
   "metadata": {
    "papermill": {
     "duration": 0.011204,
     "end_time": "2023-03-13T05:16:54.493915",
     "exception": false,
     "start_time": "2023-03-13T05:16:54.482711",
     "status": "completed"
    },
    "tags": []
   },
   "source": [
    "# AnimalTypen - 2 Kategorien"
   ]
  },
  {
   "cell_type": "code",
   "execution_count": 4,
   "metadata": {
    "execution": {
     "iopub.execute_input": "2023-03-13T05:16:54.519564Z",
     "iopub.status.busy": "2023-03-13T05:16:54.519071Z",
     "iopub.status.idle": "2023-03-13T05:16:56.134663Z",
     "shell.execute_reply": "2023-03-13T05:16:56.133060Z"
    },
    "papermill": {
     "duration": 1.632265,
     "end_time": "2023-03-13T05:16:56.137888",
     "exception": false,
     "start_time": "2023-03-13T05:16:54.505623",
     "status": "completed"
    },
    "tags": []
   },
   "outputs": [
    {
     "data": {
      "image/png": "[encoded data removed]",
      "text/plain": [
       "<Figure size 1000x500 with 1 Axes>"
      ]
     },
     "metadata": {},
     "output_type": "display_data"
    }
   ],
   "source": [
    "import matplotlib.pyplot as plt\n",
    "import seaborn as sns\n",
    "plt.figure(figsize=(10, 5))\n",
    "_ = sns.countplot(data=data, x='AnimalType', palette='Set2')"
   ]
  },
  {
   "cell_type": "markdown",
   "metadata": {
    "papermill": {
     "duration": 0.011804,
     "end_time": "2023-03-13T05:16:56.162040",
     "exception": false,
     "start_time": "2023-03-13T05:16:56.150236",
     "status": "completed"
    },
    "tags": []
   },
   "source": [
    "# OutcomeTypen - 5 Kategorien\n",
    "Zielstellung - Prognose für OutcomeTypen"
   ]
  },
  {
   "cell_type": "code",
   "execution_count": 5,
   "metadata": {
    "execution": {
     "iopub.execute_input": "2023-03-13T05:16:56.189477Z",
     "iopub.status.busy": "2023-03-13T05:16:56.188975Z",
     "iopub.status.idle": "2023-03-13T05:16:56.449022Z",
     "shell.execute_reply": "2023-03-13T05:16:56.447710Z"
    },
    "papermill": {
     "duration": 0.277775,
     "end_time": "2023-03-13T05:16:56.452099",
     "exception": false,
     "start_time": "2023-03-13T05:16:56.174324",
     "status": "completed"
    },
    "tags": []
   },
   "outputs": [
    {
     "data": {
      "image/png": "[encoded data removed]",
      "text/plain": [
       "<Figure size 1000x500 with 1 Axes>"
      ]
     },
     "metadata": {},
     "output_type": "display_data"
    }
   ],
   "source": [
    "plt.figure(figsize=(10, 5))\n",
    "_ = sns.countplot(data=data, x='OutcomeType', palette='Set2')"
   ]
  },
  {
   "cell_type": "markdown",
   "metadata": {
    "papermill": {
     "duration": 0.012063,
     "end_time": "2023-03-13T05:16:56.476785",
     "exception": false,
     "start_time": "2023-03-13T05:16:56.464722",
     "status": "completed"
    },
    "tags": []
   },
   "source": [
    "# OutcomeTypen bei Hunden und Katzen"
   ]
  },
  {
   "cell_type": "code",
   "execution_count": 6,
   "metadata": {
    "execution": {
     "iopub.execute_input": "2023-03-13T05:16:56.504580Z",
     "iopub.status.busy": "2023-03-13T05:16:56.503620Z",
     "iopub.status.idle": "2023-03-13T05:16:56.834480Z",
     "shell.execute_reply": "2023-03-13T05:16:56.833110Z"
    },
    "papermill": {
     "duration": 0.348609,
     "end_time": "2023-03-13T05:16:56.837847",
     "exception": false,
     "start_time": "2023-03-13T05:16:56.489238",
     "status": "completed"
    },
    "tags": []
   },
   "outputs": [
    {
     "data": {
      "image/png": "[encoded data removed]",
      "text/plain": [
       "<Figure size 1000x500 with 1 Axes>"
      ]
     },
     "metadata": {},
     "output_type": "display_data"
    }
   ],
   "source": [
    "plt.figure(figsize=(10, 5))\n",
    "_ = sns.countplot(data=data, x='OutcomeType', hue=\"AnimalType\", palette='Set2')"
   ]
  },
  {
   "cell_type": "markdown",
   "metadata": {
    "papermill": {
     "duration": 0.012662,
     "end_time": "2023-03-13T05:16:56.863700",
     "exception": false,
     "start_time": "2023-03-13T05:16:56.851038",
     "status": "completed"
    },
    "tags": []
   },
   "source": [
    "# SexuponOutcome"
   ]
  },
  {
   "cell_type": "code",
   "execution_count": 7,
   "metadata": {
    "execution": {
     "iopub.execute_input": "2023-03-13T05:16:56.892594Z",
     "iopub.status.busy": "2023-03-13T05:16:56.891336Z",
     "iopub.status.idle": "2023-03-13T05:16:57.152236Z",
     "shell.execute_reply": "2023-03-13T05:16:57.150898Z"
    },
    "papermill": {
     "duration": 0.279137,
     "end_time": "2023-03-13T05:16:57.155768",
     "exception": false,
     "start_time": "2023-03-13T05:16:56.876631",
     "status": "completed"
    },
    "tags": []
   },
   "outputs": [
    {
     "data": {
      "image/png": "[encoded data removed]",
      "text/plain": [
       "<Figure size 1000x500 with 1 Axes>"
      ]
     },
     "metadata": {},
     "output_type": "display_data"
    }
   ],
   "source": [
    "plt.figure(figsize=(10, 5))\n",
    "_ = sns.countplot(data=data, x='SexuponOutcome', palette='Set2')"
   ]
  },
  {
   "cell_type": "markdown",
   "metadata": {
    "papermill": {
     "duration": 0.012994,
     "end_time": "2023-03-13T05:16:57.182477",
     "exception": false,
     "start_time": "2023-03-13T05:16:57.169483",
     "status": "completed"
    },
    "tags": []
   },
   "source": [
    "# SexuponOutcome und OutcomeType Beziehung"
   ]
  },
  {
   "cell_type": "code",
   "execution_count": 8,
   "metadata": {
    "execution": {
     "iopub.execute_input": "2023-03-13T05:16:57.211001Z",
     "iopub.status.busy": "2023-03-13T05:16:57.210473Z",
     "iopub.status.idle": "2023-03-13T05:16:57.616999Z",
     "shell.execute_reply": "2023-03-13T05:16:57.615705Z"
    },
    "papermill": {
     "duration": 0.424165,
     "end_time": "2023-03-13T05:16:57.619851",
     "exception": false,
     "start_time": "2023-03-13T05:16:57.195686",
     "status": "completed"
    },
    "tags": []
   },
   "outputs": [
    {
     "data": {
      "image/png": "[encoded data removed]",
      "text/plain": [
       "<Figure size 1000x500 with 1 Axes>"
      ]
     },
     "metadata": {},
     "output_type": "display_data"
    }
   ],
   "source": [
    "plt.figure(figsize=(10, 5))\n",
    "_ = sns.countplot(data=data, x='OutcomeType', hue=\"SexuponOutcome\", palette='Set2')"
   ]
  },
  {
   "cell_type": "markdown",
   "metadata": {
    "papermill": {
     "duration": 0.013892,
     "end_time": "2023-03-13T05:16:57.647826",
     "exception": false,
     "start_time": "2023-03-13T05:16:57.633934",
     "status": "completed"
    },
    "tags": []
   },
   "source": [
    " # **Daten in numerische Format umwandeln**\n",
    " \n",
    "*  jede Kategorie bekommt eine Zahl"
   ]
  },
  {
   "cell_type": "code",
   "execution_count": 9,
   "metadata": {
    "execution": {
     "iopub.execute_input": "2023-03-13T05:16:57.677906Z",
     "iopub.status.busy": "2023-03-13T05:16:57.677401Z",
     "iopub.status.idle": "2023-03-13T05:16:57.898483Z",
     "shell.execute_reply": "2023-03-13T05:16:57.897239Z"
    },
    "papermill": {
     "duration": 0.23917,
     "end_time": "2023-03-13T05:16:57.901093",
     "exception": false,
     "start_time": "2023-03-13T05:16:57.661923",
     "status": "completed"
    },
    "tags": []
   },
   "outputs": [
    {
     "data": {
      "text/html": [
       "<div>\n",
       "<style scoped>\n",
       "    .dataframe tbody tr th:only-of-type {\n",
       "        vertical-align: middle;\n",
       "    }\n",
       "\n",
       "    .dataframe tbody tr th {\n",
       "        vertical-align: top;\n",
       "    }\n",
       "\n",
       "    .dataframe thead th {\n",
       "        text-align: right;\n",
       "    }\n",
       "</style>\n",
       "<table border=\"1\" class=\"dataframe\">\n",
       "  <thead>\n",
       "    <tr style=\"text-align: right;\">\n",
       "      <th></th>\n",
       "      <th>AnimalID</th>\n",
       "      <th>Name</th>\n",
       "      <th>DateTime</th>\n",
       "      <th>OutcomeSubtype</th>\n",
       "      <th>AgeuponOutcome</th>\n",
       "      <th>Breed</th>\n",
       "      <th>Color</th>\n",
       "      <th>OutcomeType</th>\n",
       "      <th>AnimalType</th>\n",
       "      <th>SexuponOutcome</th>\n",
       "    </tr>\n",
       "  </thead>\n",
       "  <tbody>\n",
       "    <tr>\n",
       "      <th>0</th>\n",
       "      <td>A671945</td>\n",
       "      <td>Hambone</td>\n",
       "      <td>2014-02-12 18:22:00</td>\n",
       "      <td>NaN</td>\n",
       "      <td>1 year</td>\n",
       "      <td>Shetland Sheepdog Mix</td>\n",
       "      <td>130</td>\n",
       "      <td>3</td>\n",
       "      <td>1</td>\n",
       "      <td>2</td>\n",
       "    </tr>\n",
       "    <tr>\n",
       "      <th>1</th>\n",
       "      <td>A656520</td>\n",
       "      <td>Emily</td>\n",
       "      <td>2013-10-13 12:44:00</td>\n",
       "      <td>Suffering</td>\n",
       "      <td>1 year</td>\n",
       "      <td>Domestic Shorthair Mix</td>\n",
       "      <td>167</td>\n",
       "      <td>2</td>\n",
       "      <td>0</td>\n",
       "      <td>3</td>\n",
       "    </tr>\n",
       "    <tr>\n",
       "      <th>2</th>\n",
       "      <td>A686464</td>\n",
       "      <td>Pearce</td>\n",
       "      <td>2015-01-31 12:28:00</td>\n",
       "      <td>Foster</td>\n",
       "      <td>2 years</td>\n",
       "      <td>Pit Bull Mix</td>\n",
       "      <td>86</td>\n",
       "      <td>0</td>\n",
       "      <td>1</td>\n",
       "      <td>2</td>\n",
       "    </tr>\n",
       "    <tr>\n",
       "      <th>3</th>\n",
       "      <td>A683430</td>\n",
       "      <td>NaN</td>\n",
       "      <td>2014-07-11 19:09:00</td>\n",
       "      <td>Partner</td>\n",
       "      <td>3 weeks</td>\n",
       "      <td>Domestic Shorthair Mix</td>\n",
       "      <td>42</td>\n",
       "      <td>4</td>\n",
       "      <td>0</td>\n",
       "      <td>1</td>\n",
       "    </tr>\n",
       "    <tr>\n",
       "      <th>4</th>\n",
       "      <td>A667013</td>\n",
       "      <td>NaN</td>\n",
       "      <td>2013-11-15 12:52:00</td>\n",
       "      <td>Partner</td>\n",
       "      <td>2 years</td>\n",
       "      <td>Lhasa Apso/Miniature Poodle</td>\n",
       "      <td>274</td>\n",
       "      <td>4</td>\n",
       "      <td>1</td>\n",
       "      <td>2</td>\n",
       "    </tr>\n",
       "  </tbody>\n",
       "</table>\n",
       "</div>"
      ],
      "text/plain": [
       "  AnimalID     Name             DateTime OutcomeSubtype AgeuponOutcome  \\\n",
       "0  A671945  Hambone  2014-02-12 18:22:00            NaN         1 year   \n",
       "1  A656520    Emily  2013-10-13 12:44:00      Suffering         1 year   \n",
       "2  A686464   Pearce  2015-01-31 12:28:00         Foster        2 years   \n",
       "3  A683430      NaN  2014-07-11 19:09:00        Partner        3 weeks   \n",
       "4  A667013      NaN  2013-11-15 12:52:00        Partner        2 years   \n",
       "\n",
       "                         Breed  Color  OutcomeType  AnimalType  SexuponOutcome  \n",
       "0        Shetland Sheepdog Mix    130            3           1               2  \n",
       "1       Domestic Shorthair Mix    167            2           0               3  \n",
       "2                 Pit Bull Mix     86            0           1               2  \n",
       "3       Domestic Shorthair Mix     42            4           0               1  \n",
       "4  Lhasa Apso/Miniature Poodle    274            4           1               2  "
      ]
     },
     "execution_count": 9,
     "metadata": {},
     "output_type": "execute_result"
    }
   ],
   "source": [
    "from sklearn.preprocessing import LabelEncoder\n",
    "\n",
    "# 0 - 'Adoption', 1 - 'Died', 2 - 'Euthanasia', 3 - Return_to_owner', 4 - 'Transfer' \n",
    "label_outcome = LabelEncoder().fit_transform(data.OutcomeType)  \n",
    "\n",
    "# 0 - 'Cat', 1 - 'Dog'\n",
    "label_type = LabelEncoder().fit_transform(data.AnimalType)\n",
    "\n",
    "# 0 - 'Intact Female', 1 - 'Intact Male', 2 - 'Neutered Male', 3 - 'Spayed Female', 4 - 'Unknown', 5 - nan\n",
    "label_sex = LabelEncoder().fit_transform(data.SexuponOutcome)\n",
    "\n",
    "label_color = LabelEncoder().fit_transform(data.Color)\n",
    "\n",
    "data = data.drop(['OutcomeType','AnimalType', 'SexuponOutcome'], axis=1)\n",
    "\n",
    "data['OutcomeType'] = label_outcome\n",
    "data['AnimalType'] = label_type\n",
    "data['SexuponOutcome'] = label_sex\n",
    "data['Color'] = label_color\n",
    "\n",
    "data.head()"
   ]
  },
  {
   "cell_type": "markdown",
   "metadata": {
    "papermill": {
     "duration": 0.014398,
     "end_time": "2023-03-13T05:16:57.929613",
     "exception": false,
     "start_time": "2023-03-13T05:16:57.915215",
     "status": "completed"
    },
    "tags": []
   },
   "source": [
    "# Nan-Werte eliminieren"
   ]
  },
  {
   "cell_type": "code",
   "execution_count": 10,
   "metadata": {
    "execution": {
     "iopub.execute_input": "2023-03-13T05:16:57.960953Z",
     "iopub.status.busy": "2023-03-13T05:16:57.960469Z",
     "iopub.status.idle": "2023-03-13T05:16:57.981959Z",
     "shell.execute_reply": "2023-03-13T05:16:57.980762Z"
    },
    "papermill": {
     "duration": 0.040623,
     "end_time": "2023-03-13T05:16:57.984490",
     "exception": false,
     "start_time": "2023-03-13T05:16:57.943867",
     "status": "completed"
    },
    "tags": []
   },
   "outputs": [
    {
     "data": {
      "text/plain": [
       "AnimalID              0\n",
       "Name               7691\n",
       "DateTime              0\n",
       "OutcomeSubtype    13612\n",
       "AgeuponOutcome       18\n",
       "Breed                 0\n",
       "Color                 0\n",
       "OutcomeType           0\n",
       "AnimalType            0\n",
       "SexuponOutcome        0\n",
       "dtype: int64"
      ]
     },
     "execution_count": 10,
     "metadata": {},
     "output_type": "execute_result"
    }
   ],
   "source": [
    "data.isnull().sum()"
   ]
  },
  {
   "cell_type": "code",
   "execution_count": 11,
   "metadata": {
    "execution": {
     "iopub.execute_input": "2023-03-13T05:16:58.016126Z",
     "iopub.status.busy": "2023-03-13T05:16:58.015673Z",
     "iopub.status.idle": "2023-03-13T05:16:58.034277Z",
     "shell.execute_reply": "2023-03-13T05:16:58.032867Z"
    },
    "papermill": {
     "duration": 0.038146,
     "end_time": "2023-03-13T05:16:58.037414",
     "exception": false,
     "start_time": "2023-03-13T05:16:57.999268",
     "status": "completed"
    },
    "tags": []
   },
   "outputs": [],
   "source": [
    " # Wir behalten nur die Datensätze die keine nan Werte haben\n",
    "data = data[data['AgeuponOutcome'].notna()]\n",
    "data = data[data['SexuponOutcome'].notna()]"
   ]
  },
  {
   "cell_type": "markdown",
   "metadata": {
    "papermill": {
     "duration": 0.014223,
     "end_time": "2023-03-13T05:16:58.065927",
     "exception": false,
     "start_time": "2023-03-13T05:16:58.051704",
     "status": "completed"
    },
    "tags": []
   },
   "source": [
    "# Name in numerische Format"
   ]
  },
  {
   "cell_type": "code",
   "execution_count": 12,
   "metadata": {
    "execution": {
     "iopub.execute_input": "2023-03-13T05:16:58.097344Z",
     "iopub.status.busy": "2023-03-13T05:16:58.096798Z",
     "iopub.status.idle": "2023-03-13T05:16:58.121207Z",
     "shell.execute_reply": "2023-03-13T05:16:58.120057Z"
    },
    "papermill": {
     "duration": 0.044006,
     "end_time": "2023-03-13T05:16:58.124664",
     "exception": false,
     "start_time": "2023-03-13T05:16:58.080658",
     "status": "completed"
    },
    "tags": []
   },
   "outputs": [],
   "source": [
    "# 1 - hat Name, 0 - hat keinen Name\n",
    "data.Name = data.Name.replace(np.nan,0)\n",
    "data.Name = [1 if x!=0 else 0 for x in data.Name]"
   ]
  },
  {
   "cell_type": "markdown",
   "metadata": {
    "papermill": {
     "duration": 0.013782,
     "end_time": "2023-03-13T05:16:58.152858",
     "exception": false,
     "start_time": "2023-03-13T05:16:58.139076",
     "status": "completed"
    },
    "tags": []
   },
   "source": [
    "# Age Elemente anschauen\n",
    "* Alter ist immer mit 'day', 'month' oder 'year gegeben."
   ]
  },
  {
   "cell_type": "code",
   "execution_count": 13,
   "metadata": {
    "execution": {
     "iopub.execute_input": "2023-03-13T05:16:58.183680Z",
     "iopub.status.busy": "2023-03-13T05:16:58.183197Z",
     "iopub.status.idle": "2023-03-13T05:16:58.209998Z",
     "shell.execute_reply": "2023-03-13T05:16:58.208412Z"
    },
    "papermill": {
     "duration": 0.046347,
     "end_time": "2023-03-13T05:16:58.213566",
     "exception": false,
     "start_time": "2023-03-13T05:16:58.167219",
     "status": "completed"
    },
    "tags": []
   },
   "outputs": [
    {
     "name": "stdout",
     "output_type": "stream",
     "text": [
      "Elemente:  {'week', 'weeks', 'year', 'days', 'years', 'months', 'month', 'day'}\n",
      "Anzahl der Datensätze:  26711 \n",
      "Daten die das Wort year/month/day enthalten:  26711\n"
     ]
    }
   ],
   "source": [
    "number = sum ([1 if 'month' or 'year' or 'day' in a else 0 for a in data.AgeuponOutcome])\n",
    "# eindeutige Elemente\n",
    "options = set([age.split(' ')[1] for age in data.AgeuponOutcome]) \n",
    "print('Elemente: ', options)\n",
    "print('Anzahl der Datensätze: ', data.shape[0], '\\nDaten die das Wort year/month/day enthalten: ', number)"
   ]
  },
  {
   "cell_type": "markdown",
   "metadata": {
    "papermill": {
     "duration": 0.014207,
     "end_time": "2023-03-13T05:16:58.242840",
     "exception": false,
     "start_time": "2023-03-13T05:16:58.228633",
     "status": "completed"
    },
    "tags": []
   },
   "source": [
    "-> wir können Alter in Tage Nummer umwandeln"
   ]
  },
  {
   "cell_type": "code",
   "execution_count": 14,
   "metadata": {
    "execution": {
     "iopub.execute_input": "2023-03-13T05:16:58.275734Z",
     "iopub.status.busy": "2023-03-13T05:16:58.274420Z",
     "iopub.status.idle": "2023-03-13T05:16:58.334457Z",
     "shell.execute_reply": "2023-03-13T05:16:58.333247Z"
    },
    "papermill": {
     "duration": 0.079927,
     "end_time": "2023-03-13T05:16:58.337761",
     "exception": false,
     "start_time": "2023-03-13T05:16:58.257834",
     "status": "completed"
    },
    "tags": []
   },
   "outputs": [],
   "source": [
    "def age_in_days(age):\n",
    "    if pd.isnull(age):\n",
    "        return 0\n",
    "    value = int(age.split(' ')[0])\n",
    "    timetype =  age.split(' ')[1]\n",
    "    if 'day' in timetype:\n",
    "        return value\n",
    "    if 'week' in timetype:\n",
    "        return value * 7\n",
    "    if 'month' in timetype:\n",
    "        return value * 30\n",
    "    if 'year' in timetype:\n",
    "        return value * 356\n",
    "\n",
    "data.AgeuponOutcome = [age_in_days(x) for x in data.AgeuponOutcome]"
   ]
  },
  {
   "cell_type": "markdown",
   "metadata": {
    "papermill": {
     "duration": 0.013922,
     "end_time": "2023-03-13T05:16:58.366353",
     "exception": false,
     "start_time": "2023-03-13T05:16:58.352431",
     "status": "completed"
    },
    "tags": []
   },
   "source": [
    "# Daten in Jahreszeit, Jahr, WochenTag umwandeln"
   ]
  },
  {
   "cell_type": "code",
   "execution_count": 15,
   "metadata": {
    "execution": {
     "iopub.execute_input": "2023-03-13T05:16:58.397025Z",
     "iopub.status.busy": "2023-03-13T05:16:58.396534Z",
     "iopub.status.idle": "2023-03-13T05:16:58.615526Z",
     "shell.execute_reply": "2023-03-13T05:16:58.614255Z"
    },
    "papermill": {
     "duration": 0.238217,
     "end_time": "2023-03-13T05:16:58.618805",
     "exception": false,
     "start_time": "2023-03-13T05:16:58.380588",
     "status": "completed"
    },
    "tags": []
   },
   "outputs": [],
   "source": [
    "# 0 - Frühling, 1 - Sommer, 2 - Herbst, 3 - Winter\n",
    "def get_season(x):\n",
    "    month = int(x.split('-')[1])\n",
    "    if month in [3,4,5]:\n",
    "        return 0\n",
    "    if month in [6,7,8]:\n",
    "        return 1\n",
    "    if month in [9,10,11]:\n",
    "        return 2\n",
    "    if month in [12,1,2]:\n",
    "        return 3\n",
    "    \n",
    "def get_year(x):\n",
    "    return int(x.split('-')[0])\n",
    "\n",
    "import datetime\n",
    "def get_weekday(d):\n",
    "    date = d.split(' ')[0]\n",
    "    year, month, day = (int(i) for i in date.split('-'))   \n",
    "    return datetime.date(year, month, day).strftime('%A')\n",
    "    \n",
    "data['Season'] = [get_season(x) for x in data.DateTime]\n",
    "data['Year'] =  [get_year(x) for x in data.DateTime]\n",
    "\n",
    "data['WeekDay'] = [get_weekday(x) for x in data.DateTime]\n",
    "label_weekday = LabelEncoder().fit_transform(data.WeekDay)\n",
    "data = data.drop('WeekDay', axis=1)\n",
    "data['WeekDay'] = label_weekday"
   ]
  },
  {
   "cell_type": "markdown",
   "metadata": {
    "papermill": {
     "duration": 0.014257,
     "end_time": "2023-03-13T05:16:58.648556",
     "exception": false,
     "start_time": "2023-03-13T05:16:58.634299",
     "status": "completed"
    },
    "tags": []
   },
   "source": [
    "# Breed in Reinressige/Mischlunge Typen verteilen"
   ]
  },
  {
   "cell_type": "code",
   "execution_count": 16,
   "metadata": {
    "execution": {
     "iopub.execute_input": "2023-03-13T05:16:58.679780Z",
     "iopub.status.busy": "2023-03-13T05:16:58.679305Z",
     "iopub.status.idle": "2023-03-13T05:16:58.701317Z",
     "shell.execute_reply": "2023-03-13T05:16:58.700217Z"
    },
    "papermill": {
     "duration": 0.040932,
     "end_time": "2023-03-13T05:16:58.704132",
     "exception": false,
     "start_time": "2023-03-13T05:16:58.663200",
     "status": "completed"
    },
    "tags": []
   },
   "outputs": [],
   "source": [
    "def purebred(x):\n",
    "    if pd.isnull(x):\n",
    "        return False\n",
    "    return 'Mix' in x\n",
    "\n",
    "# 1 - Reinressig, 0 - Mischlung\n",
    "data.Breed = [0 if 'Mix' in x else 1 for x in data.Breed] "
   ]
  },
  {
   "cell_type": "markdown",
   "metadata": {
    "papermill": {
     "duration": 0.014074,
     "end_time": "2023-03-13T05:16:58.732710",
     "exception": false,
     "start_time": "2023-03-13T05:16:58.718636",
     "status": "completed"
    },
    "tags": []
   },
   "source": [
    "# **Features**"
   ]
  },
  {
   "cell_type": "code",
   "execution_count": 17,
   "metadata": {
    "execution": {
     "iopub.execute_input": "2023-03-13T05:16:58.763903Z",
     "iopub.status.busy": "2023-03-13T05:16:58.763402Z",
     "iopub.status.idle": "2023-03-13T05:16:58.785133Z",
     "shell.execute_reply": "2023-03-13T05:16:58.783794Z"
    },
    "papermill": {
     "duration": 0.040252,
     "end_time": "2023-03-13T05:16:58.787713",
     "exception": false,
     "start_time": "2023-03-13T05:16:58.747461",
     "status": "completed"
    },
    "tags": []
   },
   "outputs": [
    {
     "data": {
      "text/html": [
       "<div>\n",
       "<style scoped>\n",
       "    .dataframe tbody tr th:only-of-type {\n",
       "        vertical-align: middle;\n",
       "    }\n",
       "\n",
       "    .dataframe tbody tr th {\n",
       "        vertical-align: top;\n",
       "    }\n",
       "\n",
       "    .dataframe thead th {\n",
       "        text-align: right;\n",
       "    }\n",
       "</style>\n",
       "<table border=\"1\" class=\"dataframe\">\n",
       "  <thead>\n",
       "    <tr style=\"text-align: right;\">\n",
       "      <th></th>\n",
       "      <th>Name</th>\n",
       "      <th>AnimalType</th>\n",
       "      <th>SexuponOutcome</th>\n",
       "      <th>AgeuponOutcome</th>\n",
       "      <th>Breed</th>\n",
       "      <th>Color</th>\n",
       "      <th>Year</th>\n",
       "      <th>Season</th>\n",
       "      <th>WeekDay</th>\n",
       "    </tr>\n",
       "  </thead>\n",
       "  <tbody>\n",
       "    <tr>\n",
       "      <th>0</th>\n",
       "      <td>1</td>\n",
       "      <td>1</td>\n",
       "      <td>2</td>\n",
       "      <td>356</td>\n",
       "      <td>0</td>\n",
       "      <td>130</td>\n",
       "      <td>2014</td>\n",
       "      <td>3</td>\n",
       "      <td>6</td>\n",
       "    </tr>\n",
       "    <tr>\n",
       "      <th>1</th>\n",
       "      <td>1</td>\n",
       "      <td>0</td>\n",
       "      <td>3</td>\n",
       "      <td>356</td>\n",
       "      <td>0</td>\n",
       "      <td>167</td>\n",
       "      <td>2013</td>\n",
       "      <td>2</td>\n",
       "      <td>3</td>\n",
       "    </tr>\n",
       "    <tr>\n",
       "      <th>2</th>\n",
       "      <td>1</td>\n",
       "      <td>1</td>\n",
       "      <td>2</td>\n",
       "      <td>712</td>\n",
       "      <td>0</td>\n",
       "      <td>86</td>\n",
       "      <td>2015</td>\n",
       "      <td>3</td>\n",
       "      <td>2</td>\n",
       "    </tr>\n",
       "    <tr>\n",
       "      <th>3</th>\n",
       "      <td>0</td>\n",
       "      <td>0</td>\n",
       "      <td>1</td>\n",
       "      <td>21</td>\n",
       "      <td>0</td>\n",
       "      <td>42</td>\n",
       "      <td>2014</td>\n",
       "      <td>1</td>\n",
       "      <td>0</td>\n",
       "    </tr>\n",
       "    <tr>\n",
       "      <th>4</th>\n",
       "      <td>0</td>\n",
       "      <td>1</td>\n",
       "      <td>2</td>\n",
       "      <td>712</td>\n",
       "      <td>1</td>\n",
       "      <td>274</td>\n",
       "      <td>2013</td>\n",
       "      <td>2</td>\n",
       "      <td>0</td>\n",
       "    </tr>\n",
       "  </tbody>\n",
       "</table>\n",
       "</div>"
      ],
      "text/plain": [
       "   Name  AnimalType  SexuponOutcome  AgeuponOutcome  Breed  Color  Year  \\\n",
       "0     1           1               2             356      0    130  2014   \n",
       "1     1           0               3             356      0    167  2013   \n",
       "2     1           1               2             712      0     86  2015   \n",
       "3     0           0               1              21      0     42  2014   \n",
       "4     0           1               2             712      1    274  2013   \n",
       "\n",
       "   Season  WeekDay  \n",
       "0       3        6  \n",
       "1       2        3  \n",
       "2       3        2  \n",
       "3       1        0  \n",
       "4       2        0  "
      ]
     },
     "execution_count": 17,
     "metadata": {},
     "output_type": "execute_result"
    }
   ],
   "source": [
    "y = data['OutcomeType']\n",
    "\n",
    "features = ['Name', 'AnimalType', 'SexuponOutcome', 'AgeuponOutcome', 'Breed', 'Color', 'Year','Season', 'WeekDay'] \n",
    "X = data[features]\n",
    "X.head()"
   ]
  },
  {
   "cell_type": "markdown",
   "metadata": {
    "papermill": {
     "duration": 0.014257,
     "end_time": "2023-03-13T05:16:58.816576",
     "exception": false,
     "start_time": "2023-03-13T05:16:58.802319",
     "status": "completed"
    },
    "tags": []
   },
   "source": [
    "# Trainieren\n",
    "* 25 % für Validierung, 75 % für eigentliche Trainieren"
   ]
  },
  {
   "cell_type": "code",
   "execution_count": 18,
   "metadata": {
    "execution": {
     "iopub.execute_input": "2023-03-13T05:16:58.848584Z",
     "iopub.status.busy": "2023-03-13T05:16:58.848058Z",
     "iopub.status.idle": "2023-03-13T05:16:58.937899Z",
     "shell.execute_reply": "2023-03-13T05:16:58.936691Z"
    },
    "papermill": {
     "duration": 0.110127,
     "end_time": "2023-03-13T05:16:58.941359",
     "exception": false,
     "start_time": "2023-03-13T05:16:58.831232",
     "status": "completed"
    },
    "tags": []
   },
   "outputs": [],
   "source": [
    "from sklearn.model_selection import train_test_split\n",
    "\n",
    "train_X, val_X, train_y, val_y = train_test_split(X, y, test_size=0.25)"
   ]
  },
  {
   "cell_type": "markdown",
   "metadata": {
    "papermill": {
     "duration": 0.01398,
     "end_time": "2023-03-13T05:16:58.970545",
     "exception": false,
     "start_time": "2023-03-13T05:16:58.956565",
     "status": "completed"
    },
    "tags": []
   },
   "source": [
    "# Hyperparameter Optimization"
   ]
  },
  {
   "cell_type": "code",
   "execution_count": 19,
   "metadata": {
    "execution": {
     "iopub.execute_input": "2023-03-13T05:16:59.003204Z",
     "iopub.status.busy": "2023-03-13T05:16:59.002268Z",
     "iopub.status.idle": "2023-03-13T05:17:52.936840Z",
     "shell.execute_reply": "2023-03-13T05:17:52.935814Z"
    },
    "papermill": {
     "duration": 53.968898,
     "end_time": "2023-03-13T05:17:52.953883",
     "exception": false,
     "start_time": "2023-03-13T05:16:58.984985",
     "status": "completed"
    },
    "tags": []
   },
   "outputs": [
    {
     "data": {
      "text/plain": [
       "DecisionTreeClassifier(criterion='entropy', max_depth=10, max_features='auto',\n",
       "                       min_samples_leaf=5, min_samples_split=100)"
      ]
     },
     "execution_count": 19,
     "metadata": {},
     "output_type": "execute_result"
    }
   ],
   "source": [
    "from sklearn.model_selection import GridSearchCV\n",
    "from sklearn.tree import DecisionTreeClassifier\n",
    "\n",
    "parameters = {'max_features': ['log2', 'sqrt','auto'], \n",
    "              'criterion': ['entropy', 'gini'],\n",
    "              'max_depth': [2, 3, 5, 10, 50], \n",
    "              'min_samples_split': [2, 3, 50, 100],\n",
    "              'min_samples_leaf': [1, 5, 8, 10, 15]\n",
    "             }\n",
    "\n",
    "model = DecisionTreeClassifier()\n",
    "grid_obj = GridSearchCV(model, parameters)\n",
    "grid_obj = grid_obj.fit(train_X, train_y)\n",
    "\n",
    "# Beste Parameter-Kombination\n",
    "model = grid_obj.best_estimator_\n",
    "\n",
    "model\n"
   ]
  },
  {
   "cell_type": "markdown",
   "metadata": {
    "papermill": {
     "duration": 0.015587,
     "end_time": "2023-03-13T05:17:52.984281",
     "exception": false,
     "start_time": "2023-03-13T05:17:52.968694",
     "status": "completed"
    },
    "tags": []
   },
   "source": [
    "# Cross-Validation\n",
    "* mit 3 Klassifikatoren"
   ]
  },
  {
   "cell_type": "code",
   "execution_count": 20,
   "metadata": {
    "execution": {
     "iopub.execute_input": "2023-03-13T05:17:53.016982Z",
     "iopub.status.busy": "2023-03-13T05:17:53.015980Z",
     "iopub.status.idle": "2023-03-13T05:17:56.690790Z",
     "shell.execute_reply": "2023-03-13T05:17:56.689009Z"
    },
    "papermill": {
     "duration": 3.697523,
     "end_time": "2023-03-13T05:17:56.696577",
     "exception": false,
     "start_time": "2023-03-13T05:17:52.999054",
     "status": "completed"
    },
    "tags": []
   },
   "outputs": [
    {
     "name": "stdout",
     "output_type": "stream",
     "text": [
      "DecisionTreeClassifier:  63.37959634621042 %\n",
      "LinearDiscriminantAnalysis:  55.711064010847636 %\n",
      "QuadraticDiscriminantAnalysis:  59.19793540647647 %\n"
     ]
    }
   ],
   "source": [
    "from scipy.io import arff\n",
    "from sklearn.discriminant_analysis import LinearDiscriminantAnalysis, QuadraticDiscriminantAnalysis\n",
    "from sklearn.svm import LinearSVC\n",
    "from numpy import loadtxt\n",
    "from sklearn import tree\n",
    "\n",
    "\n",
    "def cv(clf,features,classes,n):\n",
    "    folds = np.random.choice(np.arange(n),features.shape[0],replace=True)\n",
    "    acc = np.arange(n).astype(\"double\")\n",
    "    for i in range(n):\n",
    "        train = features.loc[folds != i,:]\n",
    "        ytrain = classes.loc[folds != i].astype(\"str\")\n",
    "        clf.fit(train,ytrain)\n",
    "        \n",
    "        val = features.loc[folds == i,:]\n",
    "        yval = classes.loc[folds == i].astype(\"str\")\n",
    "        \n",
    "        p = clf.predict(val)\n",
    "        acc[i]=sum(p == yval)/len(p)\n",
    "    return np.mean(acc)\n",
    "\n",
    "X=train_X\n",
    "y=train_y\n",
    "acctree = cv(model,X,y,10)\n",
    "\n",
    "acclda = cv(LinearDiscriminantAnalysis(), X, y,10)\n",
    "accqda = cv(QuadraticDiscriminantAnalysis(), X, y,10)\n",
    "print('DecisionTreeClassifier: ', acctree*100, '%')\n",
    "print('LinearDiscriminantAnalysis: ', acclda*100, '%')\n",
    "print('QuadraticDiscriminantAnalysis: ', accqda*100, '%')"
   ]
  },
  {
   "cell_type": "markdown",
   "metadata": {
    "papermill": {
     "duration": 0.036281,
     "end_time": "2023-03-13T05:17:56.770047",
     "exception": false,
     "start_time": "2023-03-13T05:17:56.733766",
     "status": "completed"
    },
    "tags": []
   },
   "source": [
    "-> die beste Wahl: DecisionTreeClassifier"
   ]
  },
  {
   "cell_type": "code",
   "execution_count": 21,
   "metadata": {
    "execution": {
     "iopub.execute_input": "2023-03-13T05:17:56.815152Z",
     "iopub.status.busy": "2023-03-13T05:17:56.814643Z",
     "iopub.status.idle": "2023-03-13T05:17:56.844871Z",
     "shell.execute_reply": "2023-03-13T05:17:56.843472Z"
    },
    "papermill": {
     "duration": 0.050138,
     "end_time": "2023-03-13T05:17:56.847628",
     "exception": false,
     "start_time": "2023-03-13T05:17:56.797490",
     "status": "completed"
    },
    "tags": []
   },
   "outputs": [
    {
     "data": {
      "text/plain": [
       "DecisionTreeClassifier(criterion='entropy', max_depth=10, max_features='auto',\n",
       "                       min_samples_leaf=5, min_samples_split=100)"
      ]
     },
     "execution_count": 21,
     "metadata": {},
     "output_type": "execute_result"
    }
   ],
   "source": [
    "model.fit(train_X, train_y)"
   ]
  },
  {
   "cell_type": "markdown",
   "metadata": {
    "papermill": {
     "duration": 0.014606,
     "end_time": "2023-03-13T05:17:56.877465",
     "exception": false,
     "start_time": "2023-03-13T05:17:56.862859",
     "status": "completed"
    },
    "tags": []
   },
   "source": [
    "# Accuracy"
   ]
  },
  {
   "cell_type": "code",
   "execution_count": 22,
   "metadata": {
    "execution": {
     "iopub.execute_input": "2023-03-13T05:17:56.911366Z",
     "iopub.status.busy": "2023-03-13T05:17:56.910817Z",
     "iopub.status.idle": "2023-03-13T05:17:56.930277Z",
     "shell.execute_reply": "2023-03-13T05:17:56.928429Z"
    },
    "papermill": {
     "duration": 0.040546,
     "end_time": "2023-03-13T05:17:56.933557",
     "exception": false,
     "start_time": "2023-03-13T05:17:56.893011",
     "status": "completed"
    },
    "tags": []
   },
   "outputs": [
    {
     "name": "stdout",
     "output_type": "stream",
     "text": [
      "Accuracy für getestete Werte:  62.848158131177 %\n",
      "Accuracy für eigentliche Trainingsdaten:  64.61338790994859 %\n"
     ]
    }
   ],
   "source": [
    "import sklearn.metrics as metrics\n",
    "\n",
    "pred_y = model.predict(val_X)\n",
    "accuracy = metrics.accuracy_score(val_y, pred_y)\n",
    "print(\"Accuracy für getestete Werte: \", accuracy*100, '%')\n",
    "\n",
    "predd_y = model.predict(train_X)\n",
    "accuracy = metrics.accuracy_score(train_y, predd_y)\n",
    "print(\"Accuracy für eigentliche Trainingsdaten: \", accuracy*100, '%')"
   ]
  },
  {
   "cell_type": "markdown",
   "metadata": {
    "papermill": {
     "duration": 0.014696,
     "end_time": "2023-03-13T05:17:56.964072",
     "exception": false,
     "start_time": "2023-03-13T05:17:56.949376",
     "status": "completed"
    },
    "tags": []
   },
   "source": [
    "# Numerische Umwandlungen für Testdaten\n",
    "* genauso wie bei Trainingsdaten\n",
    "* am Ende IDs sind gebraucht für Submission Datei, aber für die Prognose nicht, deswegen sollen sie gespeichert werden."
   ]
  },
  {
   "cell_type": "code",
   "execution_count": 23,
   "metadata": {
    "execution": {
     "iopub.execute_input": "2023-03-13T05:17:56.997430Z",
     "iopub.status.busy": "2023-03-13T05:17:56.996908Z",
     "iopub.status.idle": "2023-03-13T05:17:57.165949Z",
     "shell.execute_reply": "2023-03-13T05:17:57.164558Z"
    },
    "papermill": {
     "duration": 0.189569,
     "end_time": "2023-03-13T05:17:57.168797",
     "exception": false,
     "start_time": "2023-03-13T05:17:56.979228",
     "status": "completed"
    },
    "tags": []
   },
   "outputs": [
    {
     "data": {
      "text/html": [
       "<div>\n",
       "<style scoped>\n",
       "    .dataframe tbody tr th:only-of-type {\n",
       "        vertical-align: middle;\n",
       "    }\n",
       "\n",
       "    .dataframe tbody tr th {\n",
       "        vertical-align: top;\n",
       "    }\n",
       "\n",
       "    .dataframe thead th {\n",
       "        text-align: right;\n",
       "    }\n",
       "</style>\n",
       "<table border=\"1\" class=\"dataframe\">\n",
       "  <thead>\n",
       "    <tr style=\"text-align: right;\">\n",
       "      <th></th>\n",
       "      <th>Name</th>\n",
       "      <th>AgeuponOutcome</th>\n",
       "      <th>Breed</th>\n",
       "      <th>AnimalType</th>\n",
       "      <th>SexuponOutcome</th>\n",
       "      <th>Color</th>\n",
       "      <th>Season</th>\n",
       "      <th>Year</th>\n",
       "      <th>WeekDay</th>\n",
       "    </tr>\n",
       "  </thead>\n",
       "  <tbody>\n",
       "    <tr>\n",
       "      <th>0</th>\n",
       "      <td>1</td>\n",
       "      <td>300</td>\n",
       "      <td>0</td>\n",
       "      <td>1</td>\n",
       "      <td>0</td>\n",
       "      <td>185</td>\n",
       "      <td>2</td>\n",
       "      <td>2015</td>\n",
       "      <td>1</td>\n",
       "    </tr>\n",
       "    <tr>\n",
       "      <th>1</th>\n",
       "      <td>1</td>\n",
       "      <td>712</td>\n",
       "      <td>1</td>\n",
       "      <td>1</td>\n",
       "      <td>3</td>\n",
       "      <td>28</td>\n",
       "      <td>1</td>\n",
       "      <td>2014</td>\n",
       "      <td>2</td>\n",
       "    </tr>\n",
       "    <tr>\n",
       "      <th>2</th>\n",
       "      <td>1</td>\n",
       "      <td>356</td>\n",
       "      <td>0</td>\n",
       "      <td>0</td>\n",
       "      <td>2</td>\n",
       "      <td>79</td>\n",
       "      <td>3</td>\n",
       "      <td>2016</td>\n",
       "      <td>6</td>\n",
       "    </tr>\n",
       "    <tr>\n",
       "      <th>3</th>\n",
       "      <td>1</td>\n",
       "      <td>120</td>\n",
       "      <td>0</td>\n",
       "      <td>1</td>\n",
       "      <td>1</td>\n",
       "      <td>229</td>\n",
       "      <td>3</td>\n",
       "      <td>2013</td>\n",
       "      <td>2</td>\n",
       "    </tr>\n",
       "    <tr>\n",
       "      <th>4</th>\n",
       "      <td>1</td>\n",
       "      <td>712</td>\n",
       "      <td>0</td>\n",
       "      <td>1</td>\n",
       "      <td>2</td>\n",
       "      <td>238</td>\n",
       "      <td>2</td>\n",
       "      <td>2015</td>\n",
       "      <td>4</td>\n",
       "    </tr>\n",
       "  </tbody>\n",
       "</table>\n",
       "</div>"
      ],
      "text/plain": [
       "   Name  AgeuponOutcome  Breed  AnimalType  SexuponOutcome  Color  Season  \\\n",
       "0     1             300      0           1               0    185       2   \n",
       "1     1             712      1           1               3     28       1   \n",
       "2     1             356      0           0               2     79       3   \n",
       "3     1             120      0           1               1    229       3   \n",
       "4     1             712      0           1               2    238       2   \n",
       "\n",
       "   Year  WeekDay  \n",
       "0  2015        1  \n",
       "1  2014        2  \n",
       "2  2016        6  \n",
       "3  2013        2  \n",
       "4  2015        4  "
      ]
     },
     "execution_count": 23,
     "metadata": {},
     "output_type": "execute_result"
    }
   ],
   "source": [
    "test_IDs = test_data.ID \n",
    "# 0 - 'Cat', 1 - 'Dog'\n",
    "label_test_type = LabelEncoder().fit_transform(test_data.AnimalType)\n",
    "# 0 - 'Intact Female', 1 - 'Intact Male', 2 - 'Neutered Male', 3 - 'Spayed Female', 4 - 'Unknown', 5 - nan\n",
    "label_test_sex = LabelEncoder().fit_transform(test_data.SexuponOutcome)\n",
    "label_test_color = LabelEncoder().fit_transform(test_data.Color)\n",
    "\n",
    "test = test_data.drop(['ID', 'AnimalType', 'SexuponOutcome', 'Color'], axis=1)\n",
    "test['AnimalType'] = label_test_type\n",
    "test['SexuponOutcome'] = label_test_sex\n",
    "test['Color'] = label_test_color\n",
    "\n",
    "test['Season'] = [get_season(x) for x in test.DateTime]\n",
    "test['Year'] =  [get_year(x) for x in test.DateTime]\n",
    "test['WeekDay'] = [get_weekday(x) for x in test.DateTime]\n",
    "label_test_weekday = LabelEncoder().fit_transform(test.WeekDay)\n",
    "test = test.drop(['WeekDay','DateTime'], axis=1)\n",
    "test['WeekDay'] = label_test_weekday\n",
    "\n",
    "\n",
    "test.Name = test.Name.replace(np.nan,0)\n",
    "test.Name = [1 if x!=0 else 0 for x in test.Name]\n",
    "test.AgeuponOutcome = [(age_in_days(x)) for x in test.AgeuponOutcome]\n",
    "test.Breed = [0 if purebred(x) else 1 for x in test.Breed] # 1 für reinressig, 0 für mix\n",
    "test.head()"
   ]
  },
  {
   "cell_type": "markdown",
   "metadata": {
    "papermill": {
     "duration": 0.015421,
     "end_time": "2023-03-13T05:17:57.199983",
     "exception": false,
     "start_time": "2023-03-13T05:17:57.184562",
     "status": "completed"
    },
    "tags": []
   },
   "source": [
    "* Reihenfolge der Features festlegen (muss mit val_X stimmen)"
   ]
  },
  {
   "cell_type": "code",
   "execution_count": 24,
   "metadata": {
    "execution": {
     "iopub.execute_input": "2023-03-13T05:17:57.233539Z",
     "iopub.status.busy": "2023-03-13T05:17:57.232759Z",
     "iopub.status.idle": "2023-03-13T05:17:57.241061Z",
     "shell.execute_reply": "2023-03-13T05:17:57.239733Z"
    },
    "papermill": {
     "duration": 0.02772,
     "end_time": "2023-03-13T05:17:57.243772",
     "exception": false,
     "start_time": "2023-03-13T05:17:57.216052",
     "status": "completed"
    },
    "tags": []
   },
   "outputs": [
    {
     "data": {
      "text/plain": [
       "Index(['Name', 'AnimalType', 'SexuponOutcome', 'AgeuponOutcome', 'Breed',\n",
       "       'Color', 'Year', 'Season', 'WeekDay'],\n",
       "      dtype='object')"
      ]
     },
     "execution_count": 24,
     "metadata": {},
     "output_type": "execute_result"
    }
   ],
   "source": [
    "val_X.columns"
   ]
  },
  {
   "cell_type": "markdown",
   "metadata": {
    "papermill": {
     "duration": 0.014769,
     "end_time": "2023-03-13T05:17:57.274015",
     "exception": false,
     "start_time": "2023-03-13T05:17:57.259246",
     "status": "completed"
    },
    "tags": []
   },
   "source": [
    "*  Zusätzlich wir eliminieren ID, Name."
   ]
  },
  {
   "cell_type": "code",
   "execution_count": 25,
   "metadata": {
    "execution": {
     "iopub.execute_input": "2023-03-13T05:17:57.306420Z",
     "iopub.status.busy": "2023-03-13T05:17:57.305916Z",
     "iopub.status.idle": "2023-03-13T05:17:57.323648Z",
     "shell.execute_reply": "2023-03-13T05:17:57.322673Z"
    },
    "papermill": {
     "duration": 0.03705,
     "end_time": "2023-03-13T05:17:57.326156",
     "exception": false,
     "start_time": "2023-03-13T05:17:57.289106",
     "status": "completed"
    },
    "tags": []
   },
   "outputs": [
    {
     "data": {
      "text/html": [
       "<div>\n",
       "<style scoped>\n",
       "    .dataframe tbody tr th:only-of-type {\n",
       "        vertical-align: middle;\n",
       "    }\n",
       "\n",
       "    .dataframe tbody tr th {\n",
       "        vertical-align: top;\n",
       "    }\n",
       "\n",
       "    .dataframe thead th {\n",
       "        text-align: right;\n",
       "    }\n",
       "</style>\n",
       "<table border=\"1\" class=\"dataframe\">\n",
       "  <thead>\n",
       "    <tr style=\"text-align: right;\">\n",
       "      <th></th>\n",
       "      <th>Name</th>\n",
       "      <th>AnimalType</th>\n",
       "      <th>SexuponOutcome</th>\n",
       "      <th>AgeuponOutcome</th>\n",
       "      <th>Breed</th>\n",
       "      <th>Color</th>\n",
       "      <th>Year</th>\n",
       "      <th>Season</th>\n",
       "      <th>WeekDay</th>\n",
       "    </tr>\n",
       "  </thead>\n",
       "  <tbody>\n",
       "    <tr>\n",
       "      <th>0</th>\n",
       "      <td>1</td>\n",
       "      <td>1</td>\n",
       "      <td>0</td>\n",
       "      <td>300</td>\n",
       "      <td>0</td>\n",
       "      <td>185</td>\n",
       "      <td>2015</td>\n",
       "      <td>2</td>\n",
       "      <td>1</td>\n",
       "    </tr>\n",
       "    <tr>\n",
       "      <th>1</th>\n",
       "      <td>1</td>\n",
       "      <td>1</td>\n",
       "      <td>3</td>\n",
       "      <td>712</td>\n",
       "      <td>1</td>\n",
       "      <td>28</td>\n",
       "      <td>2014</td>\n",
       "      <td>1</td>\n",
       "      <td>2</td>\n",
       "    </tr>\n",
       "    <tr>\n",
       "      <th>2</th>\n",
       "      <td>1</td>\n",
       "      <td>0</td>\n",
       "      <td>2</td>\n",
       "      <td>356</td>\n",
       "      <td>0</td>\n",
       "      <td>79</td>\n",
       "      <td>2016</td>\n",
       "      <td>3</td>\n",
       "      <td>6</td>\n",
       "    </tr>\n",
       "    <tr>\n",
       "      <th>3</th>\n",
       "      <td>1</td>\n",
       "      <td>1</td>\n",
       "      <td>1</td>\n",
       "      <td>120</td>\n",
       "      <td>0</td>\n",
       "      <td>229</td>\n",
       "      <td>2013</td>\n",
       "      <td>3</td>\n",
       "      <td>2</td>\n",
       "    </tr>\n",
       "    <tr>\n",
       "      <th>4</th>\n",
       "      <td>1</td>\n",
       "      <td>1</td>\n",
       "      <td>2</td>\n",
       "      <td>712</td>\n",
       "      <td>0</td>\n",
       "      <td>238</td>\n",
       "      <td>2015</td>\n",
       "      <td>2</td>\n",
       "      <td>4</td>\n",
       "    </tr>\n",
       "  </tbody>\n",
       "</table>\n",
       "</div>"
      ],
      "text/plain": [
       "   Name  AnimalType  SexuponOutcome  AgeuponOutcome  Breed  Color  Year  \\\n",
       "0     1           1               0             300      0    185  2015   \n",
       "1     1           1               3             712      1     28  2014   \n",
       "2     1           0               2             356      0     79  2016   \n",
       "3     1           1               1             120      0    229  2013   \n",
       "4     1           1               2             712      0    238  2015   \n",
       "\n",
       "   Season  WeekDay  \n",
       "0       2        1  \n",
       "1       1        2  \n",
       "2       3        6  \n",
       "3       3        2  \n",
       "4       2        4  "
      ]
     },
     "execution_count": 25,
     "metadata": {},
     "output_type": "execute_result"
    }
   ],
   "source": [
    "test = test[['Name', 'AnimalType', 'SexuponOutcome', 'AgeuponOutcome', 'Breed', 'Color', 'Year', 'Season', 'WeekDay']]\n",
    "test.head()"
   ]
  },
  {
   "cell_type": "markdown",
   "metadata": {
    "papermill": {
     "duration": 0.015178,
     "end_time": "2023-03-13T05:17:57.357278",
     "exception": false,
     "start_time": "2023-03-13T05:17:57.342100",
     "status": "completed"
    },
    "tags": []
   },
   "source": [
    "# Wahrscheinlichkeiten\n",
    "* Für jedes Tier aus der Test-Datei soll die Wahrscheinlichkeit für jede Outcome gespeichert werden"
   ]
  },
  {
   "cell_type": "code",
   "execution_count": 26,
   "metadata": {
    "execution": {
     "iopub.execute_input": "2023-03-13T05:17:57.390152Z",
     "iopub.status.busy": "2023-03-13T05:17:57.389661Z",
     "iopub.status.idle": "2023-03-13T05:17:57.402974Z",
     "shell.execute_reply": "2023-03-13T05:17:57.401674Z"
    },
    "papermill": {
     "duration": 0.033237,
     "end_time": "2023-03-13T05:17:57.405907",
     "exception": false,
     "start_time": "2023-03-13T05:17:57.372670",
     "status": "completed"
    },
    "tags": []
   },
   "outputs": [
    {
     "data": {
      "text/plain": [
       "array([[0.04255319, 0.        , 0.06382979, 0.31914894, 0.57446809],\n",
       "       [0.59701493, 0.        , 0.03731343, 0.24129353, 0.12437811],\n",
       "       [0.45038168, 0.        , 0.        , 0.11450382, 0.4351145 ],\n",
       "       ...,\n",
       "       [0.        , 0.06493506, 0.20779221, 0.        , 0.72727273],\n",
       "       [0.59883721, 0.        , 0.02034884, 0.26744186, 0.11337209],\n",
       "       [0.        , 0.        , 0.26470588, 0.44117647, 0.29411765]])"
      ]
     },
     "execution_count": 26,
     "metadata": {},
     "output_type": "execute_result"
    }
   ],
   "source": [
    "probabilities_test = model.predict_proba(test)\n",
    "probabilities_test"
   ]
  },
  {
   "cell_type": "code",
   "execution_count": 27,
   "metadata": {
    "execution": {
     "iopub.execute_input": "2023-03-13T05:17:57.442333Z",
     "iopub.status.busy": "2023-03-13T05:17:57.441352Z",
     "iopub.status.idle": "2023-03-13T05:17:57.459790Z",
     "shell.execute_reply": "2023-03-13T05:17:57.458634Z"
    },
    "papermill": {
     "duration": 0.039572,
     "end_time": "2023-03-13T05:17:57.462672",
     "exception": false,
     "start_time": "2023-03-13T05:17:57.423100",
     "status": "completed"
    },
    "tags": []
   },
   "outputs": [
    {
     "data": {
      "text/html": [
       "<div>\n",
       "<style scoped>\n",
       "    .dataframe tbody tr th:only-of-type {\n",
       "        vertical-align: middle;\n",
       "    }\n",
       "\n",
       "    .dataframe tbody tr th {\n",
       "        vertical-align: top;\n",
       "    }\n",
       "\n",
       "    .dataframe thead th {\n",
       "        text-align: right;\n",
       "    }\n",
       "</style>\n",
       "<table border=\"1\" class=\"dataframe\">\n",
       "  <thead>\n",
       "    <tr style=\"text-align: right;\">\n",
       "      <th></th>\n",
       "      <th>ID</th>\n",
       "      <th>Adoption</th>\n",
       "      <th>Died</th>\n",
       "      <th>Euthanasia</th>\n",
       "      <th>Return_to_owner</th>\n",
       "      <th>Transfer</th>\n",
       "    </tr>\n",
       "  </thead>\n",
       "  <tbody>\n",
       "    <tr>\n",
       "      <th>0</th>\n",
       "      <td>1</td>\n",
       "      <td>0.042553</td>\n",
       "      <td>0.0</td>\n",
       "      <td>0.063830</td>\n",
       "      <td>0.319149</td>\n",
       "      <td>0.574468</td>\n",
       "    </tr>\n",
       "    <tr>\n",
       "      <th>1</th>\n",
       "      <td>2</td>\n",
       "      <td>0.597015</td>\n",
       "      <td>0.0</td>\n",
       "      <td>0.037313</td>\n",
       "      <td>0.241294</td>\n",
       "      <td>0.124378</td>\n",
       "    </tr>\n",
       "    <tr>\n",
       "      <th>2</th>\n",
       "      <td>3</td>\n",
       "      <td>0.450382</td>\n",
       "      <td>0.0</td>\n",
       "      <td>0.000000</td>\n",
       "      <td>0.114504</td>\n",
       "      <td>0.435115</td>\n",
       "    </tr>\n",
       "    <tr>\n",
       "      <th>3</th>\n",
       "      <td>4</td>\n",
       "      <td>0.125000</td>\n",
       "      <td>0.0</td>\n",
       "      <td>0.000000</td>\n",
       "      <td>0.093750</td>\n",
       "      <td>0.781250</td>\n",
       "    </tr>\n",
       "    <tr>\n",
       "      <th>4</th>\n",
       "      <td>5</td>\n",
       "      <td>0.316456</td>\n",
       "      <td>0.0</td>\n",
       "      <td>0.056962</td>\n",
       "      <td>0.430380</td>\n",
       "      <td>0.196203</td>\n",
       "    </tr>\n",
       "  </tbody>\n",
       "</table>\n",
       "</div>"
      ],
      "text/plain": [
       "   ID  Adoption  Died  Euthanasia  Return_to_owner  Transfer\n",
       "0   1  0.042553   0.0    0.063830         0.319149  0.574468\n",
       "1   2  0.597015   0.0    0.037313         0.241294  0.124378\n",
       "2   3  0.450382   0.0    0.000000         0.114504  0.435115\n",
       "3   4  0.125000   0.0    0.000000         0.093750  0.781250\n",
       "4   5  0.316456   0.0    0.056962         0.430380  0.196203"
      ]
     },
     "execution_count": 27,
     "metadata": {},
     "output_type": "execute_result"
    }
   ],
   "source": [
    "result = pd.DataFrame({'ID' : test_IDs,\n",
    "                       'Adoption' : probabilities_test[:,0], \n",
    "                       'Died' :  probabilities_test[:,1],\n",
    "                       'Euthanasia' :  probabilities_test[:,2],\n",
    "                       'Return_to_owner' :  probabilities_test[:,3],\n",
    "                       'Transfer':  probabilities_test[:,4]})\n",
    "\n",
    "# 0 - 'Adoption', 1 - 'Died', 2 - 'Euthanasia', 3 - Return_to_owner', 4 - 'Transfer'\n",
    "result.head()"
   ]
  },
  {
   "cell_type": "markdown",
   "metadata": {
    "papermill": {
     "duration": 0.015709,
     "end_time": "2023-03-13T05:17:57.494729",
     "exception": false,
     "start_time": "2023-03-13T05:17:57.479020",
     "status": "completed"
    },
    "tags": []
   },
   "source": [
    "* Submission in csv speichern"
   ]
  },
  {
   "cell_type": "code",
   "execution_count": 28,
   "metadata": {
    "execution": {
     "iopub.execute_input": "2023-03-13T05:17:57.530662Z",
     "iopub.status.busy": "2023-03-13T05:17:57.530167Z",
     "iopub.status.idle": "2023-03-13T05:17:57.624977Z",
     "shell.execute_reply": "2023-03-13T05:17:57.623639Z"
    },
    "papermill": {
     "duration": 0.116981,
     "end_time": "2023-03-13T05:17:57.628500",
     "exception": false,
     "start_time": "2023-03-13T05:17:57.511519",
     "status": "completed"
    },
    "tags": []
   },
   "outputs": [],
   "source": [
    "result.to_csv(\"final_submission.csv\", index=False)"
   ]
  }
 ],
 "metadata": {
  "kernelspec": {
   "display_name": "Python 3",
   "language": "python",
   "name": "python3"
  },
  "language_info": {
   "codemirror_mode": {
    "name": "ipython",
    "version": 3
   },
   "file_extension": ".py",
   "mimetype": "text/x-python",
   "name": "python",
   "nbconvert_exporter": "python",
   "pygments_lexer": "ipython3",
   "version": "3.7.3"
  },
  "papermill": {
   "default_parameters": {},
   "duration": 75.92403,
   "end_time": "2023-03-13T05:17:58.872445",
   "environment_variables": {},
   "exception": null,
   "input_path": "__notebook__.ipynb",
   "output_path": "__notebook__.ipynb",
   "parameters": {},
   "start_time": "2023-03-13T05:16:42.948415",
   "version": "2.4.0"
  }
 },
 "nbformat": 4,
 "nbformat_minor": 5
}
